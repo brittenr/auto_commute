{
 "cells": [
  {
   "cell_type": "markdown",
   "metadata": {},
   "source": [
    "# Set up:\n",
    "Import libraries, config and get access token from refresh token"
   ]
  },
  {
   "cell_type": "code",
   "execution_count": 56,
   "metadata": {
    "scrolled": true
   },
   "outputs": [],
   "source": [
    "import yaml\n",
    "import os\n",
    "import requests\n",
    "import numpy as np\n",
    "import yaml\n",
    "import datetime\n",
    "import math\n",
    "\n",
    "import urllib3\n",
    "urllib3.disable_warnings(urllib3.exceptions.InsecureRequestWarning) # prevents warnings after calls to Strava       "
   ]
  },
  {
   "cell_type": "markdown",
   "metadata": {},
   "source": [
    "### Load Config\n",
    "outside repo as conifential"
   ]
  },
  {
   "cell_type": "code",
   "execution_count": 88,
   "metadata": {
    "scrolled": false
   },
   "outputs": [],
   "source": [
    "with open('../auto_commute_config_secret.yaml', 'r') as stream:\n",
    "    try:\n",
    "        config = yaml.safe_load(stream)\n",
    "    except yaml.YAMLError as exc:\n",
    "        print(exc)"
   ]
  },
  {
   "cell_type": "markdown",
   "metadata": {},
   "source": [
    "### Set Up Commuication with Strava"
   ]
  },
  {
   "cell_type": "code",
   "execution_count": 61,
   "metadata": {
    "scrolled": false
   },
   "outputs": [
    {
     "name": "stdout",
     "output_type": "stream",
     "text": [
      "Requesting Token...\n",
      "\n"
     ]
    }
   ],
   "source": [
    "auth_url = \"https://www.strava.com/oauth/token\"\n",
    "get_activities_url = \"https://www.strava.com/api/v3/athlete/activities\"\n",
    "activity_root_url = \"https://www.strava.com/api/v3/activities/\"\n",
    "athlete_details_url = \"https://www.strava.com/api/v3/athletes/\" + str(config['athlete']['id']) + \"/stats\"\n",
    "\n",
    "payload = {\n",
    "    'client_id':'48638',\n",
    "    'client_secret': config['api']['client_secret'],\n",
    "    'refresh_token': config['api']['refresh_token'],\n",
    "    'grant_type':\"refresh_token\",\n",
    "    'f':'json'\n",
    "}\n",
    "\n",
    "print(\"Requesting Token...\\n\")\n",
    "\n",
    "res = requests.post(auth_url, data = payload, verify = False)\n",
    "\n",
    "access_token = res.json()['access_token']\n",
    "\n",
    "# This is the header used in later api calls\n",
    "header = {'Authorization': 'Bearer ' + access_token}"
   ]
  },
  {
   "cell_type": "markdown",
   "metadata": {},
   "source": [
    "### Define helper functions "
   ]
  },
  {
   "cell_type": "code",
   "execution_count": 49,
   "metadata": {
    "scrolled": true
   },
   "outputs": [],
   "source": [
    "def set_commute(activity_id, api_header):\n",
    "    \n",
    "    activity_update_url = activity_root_url + str(activity_id)\n",
    "                                             \n",
    "    results = requests.put(activity_update_url, headers = api_header, params = {'commute':'true'})    \n",
    "\n",
    "    return results"
   ]
  },
  {
   "cell_type": "code",
   "execution_count": 31,
   "metadata": {},
   "outputs": [
    {
     "data": {
      "text/plain": [
       "111.19492664455873"
      ]
     },
     "execution_count": 31,
     "metadata": {},
     "output_type": "execute_result"
    }
   ],
   "source": [
    "def calculate_coord_distance(long_lat1, long_lat2): #inputs are numpy arrays\n",
    "    \n",
    "    R = 6371 # killo metres\n",
    "    phi_1 = long_lat1[1] * math.pi/180 # φ, λ in radians\n",
    "    phi_2 = long_lat1[1] * math.pi/180\n",
    "    del_phi = (long_lat1[1]-long_lat2[1]) * math.pi/180\n",
    "    del_lambda = (long_lat1[0]- long_lat2[0]) * math.pi/180\n",
    "\n",
    "    a = math.sin(del_phi/2) * math.sin(del_phi/2) + math.cos(phi_1) * math.cos(phi_2) * math.sin(del_lambda/2) * math.sin(del_lambda/2)\n",
    "    c = 2 * math.atan2(math.sqrt(a), math.sqrt(1-a))\n",
    "\n",
    "    return R * c #// in kilometres\n",
    "\n",
    "calculate_coord_distance(np.array([0,0]),np.array([0,1]))"
   ]
  },
  {
   "cell_type": "code",
   "execution_count": 29,
   "metadata": {},
   "outputs": [
    {
     "data": {
      "text/plain": [
       "array([-0.141588, 51.501009])"
      ]
     },
     "execution_count": 29,
     "metadata": {},
     "output_type": "execute_result"
    }
   ],
   "source": [
    "def get_pcode_centre(postcode):\n",
    "       \n",
    "    get_pcode_centre_url = 'http://api.postcodes.io/postcodes/' + postcode\n",
    "    \n",
    "    pcode_req = requests.get(get_pcode_centre_url).json()\n",
    "    \n",
    "    long = float(pcode_req['result']['longitude'])\n",
    "    lat = float(pcode_req['result']['latitude'])\n",
    "    \n",
    "    return np.array([long,lat])\n",
    "\n",
    "get_pcode_centre('SW1A1AA')"
   ]
  },
  {
   "cell_type": "code",
   "execution_count": 34,
   "metadata": {},
   "outputs": [
    {
     "data": {
      "text/plain": [
       "True"
      ]
     },
     "execution_count": 34,
     "metadata": {},
     "output_type": "execute_result"
    }
   ],
   "source": [
    "def check_commute_match(start_longlat, end_longlat, check_longlat1, check_longlat2, sensitivity):\n",
    "    # check start is close enough to either of points\n",
    "    #   if the start matches point 1, check end matches point 2\n",
    "    #   if the start matches point 2, check end matches point 1\n",
    "    #   cannot simply check if start and end match either as eitherwise loops at any of the poitns would match\n",
    "    if calculate_coord_distance(start_longlat, check_longlat1) < sensitivity:\n",
    "        if calculate_coord_distance(end_longlat, check_longlat2) < sensitivity:\n",
    "            return True\n",
    "    \n",
    "    if calculate_coord_distance(start_longlat, check_longlat2) < sensitivity :\n",
    "        if calculate_coord_distance(end_longlat, check_longlat1) < sensitivity:\n",
    "            return True\n",
    "\n",
    "    return False\n",
    "\n",
    "check_commute_match(np.array([-0.416652, 51.332115]),np.array([-0.175761, 51.456331]),np.array([-0.175761, 51.456331]),np.array([-0.416652, 51.332112]),2)"
   ]
  },
  {
   "cell_type": "code",
   "execution_count": 79,
   "metadata": {},
   "outputs": [],
   "source": [
    "def check_activity_for_commute(activity, commute_centroids, verbose = True):\n",
    "    \n",
    "    try: \n",
    "        start_longlat = np.array([activity[ 'start_longitude'] , activity['start_latitude'] ])\n",
    "        end_longlat = np.array([ activity['end_latlng'][1] , activity['end_latlng'][0] ])\n",
    "    except: \n",
    "        print(str(activity['name']) + ' --- could not retreive GPS details')\n",
    "        return ''\n",
    "    \n",
    "    for commute in commute_centroids:\n",
    "        if check_commute_match(start_longlat, end_longlat, commute_centroids[commute][0], commute_centroids[commute][1] , 1 ):\n",
    "            return activity['name'] + ' --- ' + str(activity['start_date_local']) + ' --- Positive Match to: ' + str(commute)\n",
    "\n",
    "    return ''"
   ]
  },
  {
   "cell_type": "markdown",
   "metadata": {},
   "source": [
    "# Get Data Required for Process\n",
    "\n",
    "### Retreive Strava Data\n",
    "Future improvement - return all activities rather than just x most recent"
   ]
  },
  {
   "cell_type": "code",
   "execution_count": 65,
   "metadata": {
    "scrolled": false
   },
   "outputs": [
    {
     "name": "stdout",
     "output_type": "stream",
     "text": [
      "all_ride_totals:\n",
      "  count: 1271\n",
      "  distance: 35310291\n",
      "  elapsed_time: 7728573\n",
      "  elevation_gain: 227995\n",
      "  moving_time: 5099658\n",
      "all_run_totals:\n",
      "  count: 30\n",
      "  distance: 160101\n",
      "  elapsed_time: 61069\n",
      "  elevation_gain: 652\n",
      "  moving_time: 52779\n",
      "all_swim_totals:\n",
      "  count: 0\n",
      "  distance: 0\n",
      "  elapsed_time: 0\n",
      "  elevation_gain: 0\n",
      "  moving_time: 0\n",
      "biggest_climb_elevation_gain: 491.7\n",
      "biggest_ride_distance: 333422.0\n",
      "recent_ride_totals:\n",
      "  achievement_count: 484\n",
      "  count: 23\n",
      "  distance: 496485.5087890625\n",
      "  elapsed_time: 454055\n",
      "  elevation_gain: 3428.9885473251343\n",
      "  moving_time: 73284\n",
      "recent_run_totals:\n",
      "  achievement_count: 0\n",
      "  count: 0\n",
      "  distance: 0.0\n",
      "  elapsed_time: 0\n",
      "  elevation_gain: 0.0\n",
      "  moving_time: 0\n",
      "recent_swim_totals:\n",
      "  achievement_count: 0\n",
      "  count: 0\n",
      "  distance: 0.0\n",
      "  elapsed_time: 0\n",
      "  elevation_gain: 0.0\n",
      "  moving_time: 0\n",
      "ytd_ride_totals:\n",
      "  count: 125\n",
      "  distance: 3478703\n",
      "  elapsed_time: 1029316\n",
      "  elevation_gain: 22034\n",
      "  moving_time: 509866\n",
      "ytd_run_totals:\n",
      "  count: 5\n",
      "  distance: 22212\n",
      "  elapsed_time: 8616\n",
      "  elevation_gain: 73\n",
      "  moving_time: 7883\n",
      "ytd_swim_totals:\n",
      "  count: 0\n",
      "  distance: 0\n",
      "  elapsed_time: 0\n",
      "  elevation_gain: 0\n",
      "  moving_time: 0\n",
      "\n",
      "Retrieved 200 activities\n"
     ]
    }
   ],
   "source": [
    "athlete_info = requests.get(athlete_details_url, headers = header).json()\n",
    "print(yaml.dump(athlete_info))\n",
    "athelete_total_activities = athlete_info['all_ride_totals']['count'] + athlete_info['all_run_totals']['count'] + athlete_info['all_swim_totals']['count']\n",
    "\n",
    "def retreive_activities(per_page=200, page=1):\n",
    "\n",
    "    param = {'per_page': per_page, 'page': page} #some large number hoping to return all\n",
    "\n",
    "    return requests.get(get_activities_url, headers = header, params = param).json()\n",
    "\n",
    "activities_page_one = retreive_activities()\n",
    "\n",
    "print(\"Retrieved \" + str(len(activities_page_one)) + \" activities\")"
   ]
  },
  {
   "cell_type": "markdown",
   "metadata": {},
   "source": [
    "Print out information on longest ago activity"
   ]
  },
  {
   "cell_type": "code",
   "execution_count": 40,
   "metadata": {
    "scrolled": true
   },
   "outputs": [
    {
     "name": "stdout",
     "output_type": "stream",
     "text": [
      "Morning Ride:\n",
      "---\n",
      "\n",
      "achievement_count: 1\n",
      "athlete:\n",
      "  id: 10596968\n",
      "  resource_state: 1\n",
      "athlete_count: 2\n",
      "average_cadence: 88.2\n",
      "average_heartrate: 133.6\n",
      "average_speed: 7.134\n",
      "average_temp: 11\n",
      "average_watts: 133.3\n",
      "comment_count: 0\n",
      "commute: false\n",
      "device_watts: true\n",
      "display_hide_heartrate_option: true\n",
      "distance: 30054.8\n",
      "elapsed_time: 4397\n",
      "elev_high: 53.8\n",
      "elev_low: 25.2\n",
      "end_latlng:\n",
      "- 51.354113\n",
      "- -0.463409\n",
      "external_id: garmin_push_4098747837\n",
      "flagged: false\n",
      "from_accepted_tag: false\n",
      "gear_id: null\n",
      "has_heartrate: true\n",
      "has_kudoed: false\n",
      "heartrate_opt_out: false\n",
      "id: 2741867714\n",
      "kilojoules: 561.6\n",
      "kudos_count: 0\n",
      "location_city: null\n",
      "location_country: United Kingdom\n",
      "location_state: null\n",
      "manual: false\n",
      "map:\n",
      "  id: a2741867714\n",
      "  resource_state: 2\n",
      "  summary_polyline: iiayH|bc@p@fIzApMd@~BZpEDfCAtGYnDo@pDCzBUdCIfBJxBp@nJXxFLzHRnE@z@GdBWvAS`EWrB]bAcCpEc@`AuBnGeC~J}@dF?rAMf@KbAYnAk@fES|Bs@vDs@~EKzABXFHMt@c@nAaDxQeC`I[pASvA[vEWpJa@fHmB`UaAfKs@nEe@pE}@zLShGWhCS`DOrDCdDYlIAlGBjCTlGFfFBPDNXPbEpBtElCdHrD|NpI|OjI|DdCbB~@z@p@d@lALr@LlAR`DBJ`@\\FTnB~Iz@`GzBhTv@dLFhBA|BBLn@Lr@GnIgBrCy@xE]jBg@vCc@xILtE}@bAG~@Nf@XfB~BfChEd@b@p@`@lBz@pAPlEUD`AD~D?nOFnBZfERzAThAtGtYlAnEdB`Fx@nBzGnLhC~ElAnCvBbGNV`@FfAQl@Nn@l@hBhCbAbAz@Zh@DbAI`Cw@bGq@jCwAvC_AlEmCpAa@zAUjEc@fCIvFv@z@?tA`@jBPx@BdAIPrCJx@\\tEXxA~@|Q`@bDJ\\nA~Bz@lAtFpF`BpBvCbGdDlIt@`CdBfHZFbB[|@KTHXIpATp@d@Fd@a@nR?vBZfBNTfA^PVj@xA`CxHFv@?z@k@xN?z@Dp@xAbFn@rC~CvQtCrKtBbHlBlHl@lDV`CnB~b@`AxPZvJJdG@fCWbKQvCaAvIDz@Nf@\\ZlC|@`C|AbBz@fBxA`H`FCXUx@UZ]D]\\{CbHg@zAc@tCgA~JmBfKqAjI{@vDi@dDwAtL{@hEc@`EM`Ci@nTFnBKzAWhFKfIHfILjFl@~OHp@V~@lCtFf@lAd@nB\\xBXjDjBfPr@fKRrEBrBAlEJfMp@pOvBtPbClMvDjKn@rAtUr]rBbCjCbC~ArB~@nB~ErM~A`Ch@|ApEtIzBpD|DjI~ApEz@`Dz@nBbClE~FzJfGlJ~AnBlDfGXHPz@Zb@Nf@d@hCNnBD`CIbDa@~Bw@nCC^Fp@l@dENf@@b@Cb@Xt@zA~ApMfM`ChBrDpBvCbCdKvOz@bApF|ErCtB`@j@XJRVrBt@xApAvDfEd@p@p@vAfAnCDTZhDv@dMVbCVdA\\~@|AjFl@nC\\jEL|DHlJAfEB\\Lh@d@Rx@EHHTx@j@^~CdA|EpB|DhBzAf@jD`B~Af@dAl@vDhA|EnBX\\fB`Ez@|@\\PtEYxABr@LrC~@`B~@v@HrBa@|CeAzF_Bz@Fv@^\n",
      "max_heartrate: 160.0\n",
      "max_speed: 12.5\n",
      "max_watts: 630\n",
      "moving_time: 4213\n",
      "name: Morning Ride\n",
      "photo_count: 0\n",
      "pr_count: 0\n",
      "private: false\n",
      "resource_state: 2\n",
      "start_date: '2019-09-23T06:19:15Z'\n",
      "start_date_local: '2019-09-23T07:19:15Z'\n",
      "start_latitude: 51.45606\n",
      "start_latlng:\n",
      "- 51.45606\n",
      "- -0.175565\n",
      "start_longitude: -0.175565\n",
      "suffer_score: 34.0\n",
      "timezone: (GMT+00:00) Europe/London\n",
      "total_elevation_gain: 117.0\n",
      "total_photo_count: 0\n",
      "trainer: false\n",
      "type: Ride\n",
      "upload_id: 2906129545\n",
      "upload_id_str: '2906129545'\n",
      "utc_offset: 3600.0\n",
      "visibility: everyone\n",
      "weighted_average_watts: 147\n",
      "workout_type: null\n",
      "\n"
     ]
    }
   ],
   "source": [
    "first_activity = activities_all[len(activities_all)-1]\n",
    "\n",
    "print(first_activity['name'] + ':\\n---\\n')\n",
    "print(yaml.dump(first_activity))"
   ]
  },
  {
   "cell_type": "markdown",
   "metadata": {},
   "source": [
    "### Convert Address into GPS Coordinates"
   ]
  },
  {
   "cell_type": "code",
   "execution_count": 89,
   "metadata": {
    "scrolled": true
   },
   "outputs": [],
   "source": [
    "# Create a copy of the commutes specificaiton, replacing postcodes with gps centroids\n",
    "def convert_commutes_specs(commutes_dict):\n",
    "\n",
    "    commute_points = commutes_dict\n",
    "\n",
    "    for commute in config['commutes']:\n",
    "        #print(commute)\n",
    "        #print(config['commutes'][commute])\n",
    "        #print(type(config['commutes'][commute]))\n",
    "        #print(len(config['commutes'][commute]))\n",
    "        commute_points[commute] = list(map(get_pcode_centre,config['commutes'][commute]))\n",
    "        \n",
    "    return commute_points\n",
    "           \n",
    "commutes_pcodes_centroids = convert_commutes_specs(config['commutes'])"
   ]
  },
  {
   "cell_type": "markdown",
   "metadata": {},
   "source": [
    "# Run routine"
   ]
  },
  {
   "cell_type": "code",
   "execution_count": 90,
   "metadata": {},
   "outputs": [],
   "source": [
    "def update_activities(activities):\n",
    "\n",
    "    run_api_calls = 0\n",
    "    run_matches = 0\n",
    "\n",
    "    for activity_i in activities:\n",
    "        result = check_activity_for_commute(activity = activity_i, commute_centroids = commutes_pcodes_centroids)\n",
    "        \n",
    "        if len(result) > 1:\n",
    "            \n",
    "            run_matches += 1\n",
    "            \n",
    "            if not activity_i['commute']:     \n",
    "                print(result)\n",
    "                run_api_calls += 1\n",
    "                set_commute(activity_i['id'], api_header = header )\n",
    "                print('--- Activity id: ' + str(activity_i['id']) + ' set to commute')\n",
    "\n",
    "        #else:\n",
    "        #    print('No match for ' + activity_i['name'])\n",
    "\n",
    "        #if api_call_count > 100:\n",
    "        #    break\n",
    "\n",
    "    print('\\n\\n Finished loop:' + str(run_api_calls) + ' out of ' + str(run_matches) + ' matches modified (' + str(len(activities)) + ' were checked)')\n",
    "    \n",
    "    return(run_api_calls)"
   ]
  },
  {
   "cell_type": "code",
   "execution_count": 92,
   "metadata": {},
   "outputs": [
    {
     "name": "stdout",
     "output_type": "stream",
     "text": [
      "Missing milles --- could not retreive GPS details\n",
      "Big half, easier by bike --- 2020-03-01T09:27:39Z --- Positive Match to: house_two_to_work_location_three\n",
      "--- Activity id: 3145532193 set to commute\n",
      "Lunch Ride --- could not retreive GPS details\n",
      "Afternoon Ride --- 2020-01-09T17:28:19Z --- Positive Match to: house_two_to_work_location_three\n",
      "--- Activity id: 3002085684 set to commute\n",
      "Morning Ride --- 2020-01-09T08:10:05Z --- Positive Match to: house_two_to_work_location_three\n",
      "--- Activity id: 3002084978 set to commute\n",
      "Evening Ride --- could not retreive GPS details\n",
      "Morning Ride --- 2020-01-06T08:17:10Z --- Positive Match to: house_two_to_work_location_three\n",
      "--- Activity id: 2990483034 set to commute\n",
      "Evening Ride --- could not retreive GPS details\n",
      "\n",
      "\n",
      " Finished loop:4 out of 92 matches modified (200 were checked)\n"
     ]
    }
   ],
   "source": [
    "changes = update_activities(activities_page_one)"
   ]
  },
  {
   "cell_type": "code",
   "execution_count": 98,
   "metadata": {},
   "outputs": [
    {
     "name": "stdout",
     "output_type": "stream",
     "text": [
      "7\n",
      "2\n"
     ]
    },
    {
     "ename": "TypeError",
     "evalue": "string indices must be integers",
     "output_type": "error",
     "traceback": [
      "\u001b[1;31m---------------------------------------------------------------------------\u001b[0m",
      "\u001b[1;31mTypeError\u001b[0m                                 Traceback (most recent call last)",
      "\u001b[1;32m<ipython-input-79-e534e1920c14>\u001b[0m in \u001b[0;36mcheck_activity_for_commute\u001b[1;34m(activity, commute_centroids, verbose)\u001b[0m\n\u001b[0;32m      3\u001b[0m     \u001b[1;32mtry\u001b[0m\u001b[1;33m:\u001b[0m\u001b[1;33m\u001b[0m\u001b[1;33m\u001b[0m\u001b[0m\n\u001b[1;32m----> 4\u001b[1;33m         \u001b[0mstart_longlat\u001b[0m \u001b[1;33m=\u001b[0m \u001b[0mnp\u001b[0m\u001b[1;33m.\u001b[0m\u001b[0marray\u001b[0m\u001b[1;33m(\u001b[0m\u001b[1;33m[\u001b[0m\u001b[0mactivity\u001b[0m\u001b[1;33m[\u001b[0m \u001b[1;34m'start_longitude'\u001b[0m\u001b[1;33m]\u001b[0m \u001b[1;33m,\u001b[0m \u001b[0mactivity\u001b[0m\u001b[1;33m[\u001b[0m\u001b[1;34m'start_latitude'\u001b[0m\u001b[1;33m]\u001b[0m \u001b[1;33m]\u001b[0m\u001b[1;33m)\u001b[0m\u001b[1;33m\u001b[0m\u001b[1;33m\u001b[0m\u001b[0m\n\u001b[0m\u001b[0;32m      5\u001b[0m         \u001b[0mend_longlat\u001b[0m \u001b[1;33m=\u001b[0m \u001b[0mnp\u001b[0m\u001b[1;33m.\u001b[0m\u001b[0marray\u001b[0m\u001b[1;33m(\u001b[0m\u001b[1;33m[\u001b[0m \u001b[0mactivity\u001b[0m\u001b[1;33m[\u001b[0m\u001b[1;34m'end_latlng'\u001b[0m\u001b[1;33m]\u001b[0m\u001b[1;33m[\u001b[0m\u001b[1;36m1\u001b[0m\u001b[1;33m]\u001b[0m \u001b[1;33m,\u001b[0m \u001b[0mactivity\u001b[0m\u001b[1;33m[\u001b[0m\u001b[1;34m'end_latlng'\u001b[0m\u001b[1;33m]\u001b[0m\u001b[1;33m[\u001b[0m\u001b[1;36m0\u001b[0m\u001b[1;33m]\u001b[0m \u001b[1;33m]\u001b[0m\u001b[1;33m)\u001b[0m\u001b[1;33m\u001b[0m\u001b[1;33m\u001b[0m\u001b[0m\n",
      "\u001b[1;31mTypeError\u001b[0m: string indices must be integers",
      "\nDuring handling of the above exception, another exception occurred:\n",
      "\u001b[1;31mTypeError\u001b[0m                                 Traceback (most recent call last)",
      "\u001b[1;32m<ipython-input-98-a4b92d722170>\u001b[0m in \u001b[0;36m<module>\u001b[1;34m\u001b[0m\n\u001b[0;32m      7\u001b[0m         \u001b[0mactivities_page_i\u001b[0m \u001b[1;33m=\u001b[0m \u001b[0mretreive_activities\u001b[0m\u001b[1;33m(\u001b[0m\u001b[0mpage\u001b[0m\u001b[1;33m=\u001b[0m\u001b[0mi\u001b[0m\u001b[1;33m)\u001b[0m\u001b[1;33m\u001b[0m\u001b[1;33m\u001b[0m\u001b[0m\n\u001b[0;32m      8\u001b[0m \u001b[1;33m\u001b[0m\u001b[0m\n\u001b[1;32m----> 9\u001b[1;33m         \u001b[0mchanges\u001b[0m \u001b[1;33m=\u001b[0m \u001b[0mupdate_activities\u001b[0m\u001b[1;33m(\u001b[0m\u001b[0mactivities_page_i\u001b[0m\u001b[1;33m)\u001b[0m\u001b[1;33m\u001b[0m\u001b[1;33m\u001b[0m\u001b[0m\n\u001b[0m\u001b[0;32m     10\u001b[0m         \u001b[0mprint\u001b[0m\u001b[1;33m(\u001b[0m\u001b[0mchanges\u001b[0m\u001b[1;33m)\u001b[0m\u001b[1;33m\u001b[0m\u001b[1;33m\u001b[0m\u001b[0m\n\u001b[0;32m     11\u001b[0m \u001b[1;33m\u001b[0m\u001b[0m\n",
      "\u001b[1;32m<ipython-input-90-df5e57f496f8>\u001b[0m in \u001b[0;36mupdate_activities\u001b[1;34m(activities)\u001b[0m\n\u001b[0;32m      5\u001b[0m \u001b[1;33m\u001b[0m\u001b[0m\n\u001b[0;32m      6\u001b[0m     \u001b[1;32mfor\u001b[0m \u001b[0mactivity_i\u001b[0m \u001b[1;32min\u001b[0m \u001b[0mactivities\u001b[0m\u001b[1;33m:\u001b[0m\u001b[1;33m\u001b[0m\u001b[1;33m\u001b[0m\u001b[0m\n\u001b[1;32m----> 7\u001b[1;33m         \u001b[0mresult\u001b[0m \u001b[1;33m=\u001b[0m \u001b[0mcheck_activity_for_commute\u001b[0m\u001b[1;33m(\u001b[0m\u001b[0mactivity\u001b[0m \u001b[1;33m=\u001b[0m \u001b[0mactivity_i\u001b[0m\u001b[1;33m,\u001b[0m \u001b[0mcommute_centroids\u001b[0m \u001b[1;33m=\u001b[0m \u001b[0mcommutes_pcodes_centroids\u001b[0m\u001b[1;33m)\u001b[0m\u001b[1;33m\u001b[0m\u001b[1;33m\u001b[0m\u001b[0m\n\u001b[0m\u001b[0;32m      8\u001b[0m \u001b[1;33m\u001b[0m\u001b[0m\n\u001b[0;32m      9\u001b[0m         \u001b[1;32mif\u001b[0m \u001b[0mlen\u001b[0m\u001b[1;33m(\u001b[0m\u001b[0mresult\u001b[0m\u001b[1;33m)\u001b[0m \u001b[1;33m>\u001b[0m \u001b[1;36m1\u001b[0m\u001b[1;33m:\u001b[0m\u001b[1;33m\u001b[0m\u001b[1;33m\u001b[0m\u001b[0m\n",
      "\u001b[1;32m<ipython-input-79-e534e1920c14>\u001b[0m in \u001b[0;36mcheck_activity_for_commute\u001b[1;34m(activity, commute_centroids, verbose)\u001b[0m\n\u001b[0;32m      5\u001b[0m         \u001b[0mend_longlat\u001b[0m \u001b[1;33m=\u001b[0m \u001b[0mnp\u001b[0m\u001b[1;33m.\u001b[0m\u001b[0marray\u001b[0m\u001b[1;33m(\u001b[0m\u001b[1;33m[\u001b[0m \u001b[0mactivity\u001b[0m\u001b[1;33m[\u001b[0m\u001b[1;34m'end_latlng'\u001b[0m\u001b[1;33m]\u001b[0m\u001b[1;33m[\u001b[0m\u001b[1;36m1\u001b[0m\u001b[1;33m]\u001b[0m \u001b[1;33m,\u001b[0m \u001b[0mactivity\u001b[0m\u001b[1;33m[\u001b[0m\u001b[1;34m'end_latlng'\u001b[0m\u001b[1;33m]\u001b[0m\u001b[1;33m[\u001b[0m\u001b[1;36m0\u001b[0m\u001b[1;33m]\u001b[0m \u001b[1;33m]\u001b[0m\u001b[1;33m)\u001b[0m\u001b[1;33m\u001b[0m\u001b[1;33m\u001b[0m\u001b[0m\n\u001b[0;32m      6\u001b[0m     \u001b[1;32mexcept\u001b[0m\u001b[1;33m:\u001b[0m\u001b[1;33m\u001b[0m\u001b[1;33m\u001b[0m\u001b[0m\n\u001b[1;32m----> 7\u001b[1;33m         \u001b[0mprint\u001b[0m\u001b[1;33m(\u001b[0m\u001b[0mstr\u001b[0m\u001b[1;33m(\u001b[0m\u001b[0mactivity\u001b[0m\u001b[1;33m[\u001b[0m\u001b[1;34m'name'\u001b[0m\u001b[1;33m]\u001b[0m\u001b[1;33m)\u001b[0m \u001b[1;33m+\u001b[0m \u001b[1;34m' --- could not retreive GPS details'\u001b[0m\u001b[1;33m)\u001b[0m\u001b[1;33m\u001b[0m\u001b[1;33m\u001b[0m\u001b[0m\n\u001b[0m\u001b[0;32m      8\u001b[0m         \u001b[1;32mreturn\u001b[0m \u001b[1;34m''\u001b[0m\u001b[1;33m\u001b[0m\u001b[1;33m\u001b[0m\u001b[0m\n\u001b[0;32m      9\u001b[0m \u001b[1;33m\u001b[0m\u001b[0m\n",
      "\u001b[1;31mTypeError\u001b[0m: string indices must be integers"
     ]
    }
   ],
   "source": [
    "total_pages = math.ceil(athelete_total_activities / 200)\n",
    "print(total_pages)\n",
    "\n",
    "if total_pages > 1:\n",
    "    for i in range(2, total_pages + 1):\n",
    "        print(i)\n",
    "        activities_page_i = retreive_activities(page=i)\n",
    "        \n",
    "        changes = update_activities(activities_page_i)\n",
    "        print(changes)\n",
    "        \n",
    "        if changes == 0:\n",
    "            break"
   ]
  }
 ],
 "metadata": {
  "kernelspec": {
   "display_name": "Python 3",
   "language": "python",
   "name": "python3"
  },
  "language_info": {
   "codemirror_mode": {
    "name": "ipython",
    "version": 3
   },
   "file_extension": ".py",
   "mimetype": "text/x-python",
   "name": "python",
   "nbconvert_exporter": "python",
   "pygments_lexer": "ipython3",
   "version": "3.7.3"
  }
 },
 "nbformat": 4,
 "nbformat_minor": 2
}
